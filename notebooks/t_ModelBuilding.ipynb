{
 "cells": [
  {
   "cell_type": "code",
   "execution_count": 4,
   "id": "c34a6094",
   "metadata": {
    "executionInfo": {
     "elapsed": 2895,
     "status": "ok",
     "timestamp": 1628699389341,
     "user": {
      "displayName": "Daniel Zelalem",
      "photoUrl": "",
      "userId": "17933366000899068375"
     },
     "user_tz": -180
    },
    "id": "c34a6094"
   },
   "outputs": [],
   "source": [
    "import os\n",
    "import sys\n",
    "sys.path.append(os.path.abspath(os.path.join('../scripts')))\n",
    "sys.path.append(os.path.abspath(os.path.join('./scripts')))\n",
    "import pandas as pd\n",
    "import IPython.display as ipd\n",
    "import matplotlib.pyplot as plt\n",
    "import numpy as np\n",
    "from scipy.io import wavfile #for audio processing\n",
    "import os\n",
    "import pickle\n",
    "import pandas as pd\n",
    "from collections import Counter\n",
    "import librosa\n",
    "import tensorflow as tf\n",
    "from tensorflow.keras.models import Model, Sequential\n",
    "from tensorflow.keras.layers import * \n",
    "from tensorflow.keras.callbacks import Callback, ModelCheckpoint\n",
    "from tensorflow.keras.preprocessing.sequence import pad_sequences\n",
    "from tensorflow.keras.optimizers import SGD, Adam, RMSprop\n",
    "from tensorflow.keras import backend as K\n",
    "from jiwer import wer\n",
    "import random\n",
    "\n",
    "\n",
    "import mlflow"
   ]
  },
  {
   "cell_type": "code",
   "execution_count": 5,
   "id": "cef121c6",
   "metadata": {},
   "outputs": [],
   "source": [
    "import warnings\n",
    "warnings.filterwarnings('ignore')"
   ]
  },
  {
   "cell_type": "code",
   "execution_count": 6,
   "id": "14DrOASH1-ag",
   "metadata": {
    "executionInfo": {
     "elapsed": 1707,
     "status": "ok",
     "timestamp": 1628689887618,
     "user": {
      "displayName": "Daniel Zelalem",
      "photoUrl": "",
      "userId": "17933366000899068375"
     },
     "user_tz": -180
    },
    "id": "14DrOASH1-ag"
   },
   "outputs": [],
   "source": [
    "# !ln -s ./drive/MyDrive/SST/data/ ./\n",
    "# !ln -s ./drive/MyDrive/SST/scripts/* ./"
   ]
  },
  {
   "cell_type": "code",
   "execution_count": 7,
   "id": "IQLOtaNr2GSB",
   "metadata": {
    "colab": {
     "base_uri": "https://localhost:8080/"
    },
    "executionInfo": {
     "elapsed": 625,
     "status": "ok",
     "timestamp": 1628689876631,
     "user": {
      "displayName": "Daniel Zelalem",
      "photoUrl": "",
      "userId": "17933366000899068375"
     },
     "user_tz": -180
    },
    "id": "IQLOtaNr2GSB",
    "outputId": "05b3d77e-6ba7-43fc-8256-92e5e2539d74"
   },
   "outputs": [],
   "source": [
    "# from google.colab import drive\n",
    "# drive.mount('/content/drive')"
   ]
  },
  {
   "cell_type": "code",
   "execution_count": 8,
   "id": "3f315bab",
   "metadata": {},
   "outputs": [],
   "source": [
    "# !pip3 install jiwer\n"
   ]
  },
  {
   "cell_type": "code",
   "execution_count": 9,
   "id": "acf88600",
   "metadata": {
    "executionInfo": {
     "elapsed": 981,
     "status": "ok",
     "timestamp": 1628699393166,
     "user": {
      "displayName": "Daniel Zelalem",
      "photoUrl": "",
      "userId": "17933366000899068375"
     },
     "user_tz": -180
    },
    "id": "acf88600"
   },
   "outputs": [],
   "source": [
    "import helper\n"
   ]
  },
  {
   "cell_type": "code",
   "execution_count": 10,
   "id": "4f219ca9",
   "metadata": {
    "executionInfo": {
     "elapsed": 4,
     "status": "ok",
     "timestamp": 1628699394673,
     "user": {
      "displayName": "Daniel Zelalem",
      "photoUrl": "",
      "userId": "17933366000899068375"
     },
     "user_tz": -180
    },
    "id": "4f219ca9"
   },
   "outputs": [],
   "source": [
    "from data_generator import DataGenerator\n",
    "from tokenizer import Tokenizer\n",
    "from logspectrorgam import LogMelSpectrogram\n",
    "from ctc_loss import CTC_loss\n",
    "from model2 import simple_rnn_model, CNN_net, BidirectionalRNN2, cnn_rnn_model"
   ]
  },
  {
   "cell_type": "markdown",
   "id": "a808c537",
   "metadata": {},
   "source": [
    "### Defining hop_size for our audio features "
   ]
  },
  {
   "cell_type": "markdown",
   "id": "fc6c9b55",
   "metadata": {},
   "source": [
    "### Init CTC_loss class"
   ]
  },
  {
   "cell_type": "code",
   "execution_count": 11,
   "id": "e464cd2c",
   "metadata": {},
   "outputs": [],
   "source": [
    "frame_step = 256\n",
    "ctc = CTC_loss(frame_step)"
   ]
  },
  {
   "cell_type": "markdown",
   "id": "a1e2ce09",
   "metadata": {},
   "source": [
    "### Defination of preprocessing model"
   ]
  },
  {
   "cell_type": "markdown",
   "id": "8498d74e",
   "metadata": {},
   "source": [
    "- This model uses LogMelSpectrogram to generate features of an audio data at run time\n",
    "- We will use this model as a part of our speech to text models to convert audio data to log melspectrogram"
   ]
  },
  {
   "cell_type": "code",
   "execution_count": 12,
   "id": "09c8fa57",
   "metadata": {
    "executionInfo": {
     "elapsed": 623,
     "status": "ok",
     "timestamp": 1628699400742,
     "user": {
      "displayName": "Daniel Zelalem",
      "photoUrl": "",
      "userId": "17933366000899068375"
     },
     "user_tz": -180
    },
    "id": "09c8fa57"
   },
   "outputs": [],
   "source": [
    "def preprocessin_model(sample_rate, fft_size, frame_step, n_mels, mfcc=False):\n",
    "\n",
    "    input_data = Input(name='input', shape=(None,), dtype=\"float32\")\n",
    "    featLayer = LogMelSpectrogram(\n",
    "        fft_size=fft_size,\n",
    "        hop_size=frame_step,\n",
    "        n_mels=n_mels,\n",
    "        \n",
    "        sample_rate=sample_rate,\n",
    "        f_min=0.0,\n",
    "        \n",
    "        f_max=int(sample_rate / 2),\n",
    "    )(input_data)\n",
    "    \n",
    "    x = BatchNormalization(axis=2)(featLayer)\n",
    "    model = Model(inputs=input_data, outputs=x, name=\"preprocessin_model\")\n",
    "\n",
    "    return model"
   ]
  },
  {
   "cell_type": "markdown",
   "id": "84ea3e3e",
   "metadata": {},
   "source": [
    "### Model trainer function"
   ]
  },
  {
   "cell_type": "code",
   "execution_count": 13,
   "id": "7abeb89a",
   "metadata": {
    "executionInfo": {
     "elapsed": 542,
     "status": "ok",
     "timestamp": 1628699406370,
     "user": {
      "displayName": "Daniel Zelalem",
      "photoUrl": "",
      "userId": "17933366000899068375"
     },
     "user_tz": -180
    },
    "id": "7abeb89a"
   },
   "outputs": [],
   "source": [
    "def train(model_builder, \n",
    "          data_gen,\n",
    "          batch_size = 32,\n",
    "          epochs=20, \n",
    "          verbose=1,\n",
    "          save_path=\"../models/model.h5\",\n",
    "          optimizer=SGD(learning_rate=0.01, decay=1e-6, momentum=0.9, nesterov=True, clipnorm=5),\n",
    "          ):    \n",
    "              \n",
    "    model = ctc.add_ctc_loss(model_builder)\n",
    "\n",
    "    checkpointer = ModelCheckpoint(filepath=save_path, verbose=0)\n",
    "    model.compile(loss={'ctc': lambda y_true, y_pred: y_pred}, optimizer=optimizer)\n",
    "    print(model.summary())\n",
    "\n",
    "\n",
    "    hist = model.fit_generator(generator=data_gen,\n",
    "                               callbacks=[checkpointer],\n",
    "\n",
    "                               epochs=epochs,\n",
    "                               verbose=verbose, \n",
    "                               use_multiprocessing=False)\n",
    "    return model"
   ]
  },
  {
   "cell_type": "markdown",
   "id": "dbd30b71",
   "metadata": {},
   "source": [
    "### Loading our audio data and translation data from pickle file\n",
    "\n",
    "- audio_obj is a key value pair dict where the key is the file name of the audio and value is the audio data\n",
    "- translation_obj is a key value pair dict where the key is the file name of the audio and value is the transcription \n"
   ]
  },
  {
   "cell_type": "markdown",
   "id": "4a07f40f",
   "metadata": {},
   "source": [
    "#### The metadata is a pandas dataframe which holds meta data information for each audio"
   ]
  },
  {
   "cell_type": "code",
   "execution_count": 14,
   "id": "3f654a55",
   "metadata": {
    "colab": {
     "base_uri": "https://localhost:8080/"
    },
    "executionInfo": {
     "elapsed": 2912,
     "status": "ok",
     "timestamp": 1628699411261,
     "user": {
      "displayName": "Daniel Zelalem",
      "photoUrl": "",
      "userId": "17933366000899068375"
     },
     "user_tz": -180
    },
    "id": "3f654a55",
    "outputId": "c01d68d8-1b78-41f1-ea6f-6345db44bff8"
   },
   "outputs": [
    {
     "name": "stdout",
     "output_type": "stream",
     "text": [
      "file read as csv\n"
     ]
    }
   ],
   "source": [
    "\n",
    "translation_obj = helper.read_obj(\"../data/translation_dict.pkl\")\n",
    "audio_obj = helper.read_obj(\"../data/audio_dict.pkl\")\n",
    "meta_data = helper.read_csv(\"../data/meta_data.csv\")\n"
   ]
  },
  {
   "cell_type": "markdown",
   "id": "317f5cac",
   "metadata": {},
   "source": [
    "#### Sorting the audios based on the duration using the metadata"
   ]
  },
  {
   "cell_type": "code",
   "execution_count": 15,
   "id": "xO7gtHd07skA",
   "metadata": {
    "colab": {
     "base_uri": "https://localhost:8080/",
     "height": 504
    },
    "executionInfo": {
     "elapsed": 11,
     "status": "ok",
     "timestamp": 1628699411262,
     "user": {
      "displayName": "Daniel Zelalem",
      "photoUrl": "",
      "userId": "17933366000899068375"
     },
     "user_tz": -180
    },
    "id": "xO7gtHd07skA",
    "outputId": "028c0876-dfa9-45f3-d192-5297099bddf5"
   },
   "outputs": [
    {
     "data": {
      "text/html": [
       "<div>\n",
       "<style scoped>\n",
       "    .dataframe tbody tr th:only-of-type {\n",
       "        vertical-align: middle;\n",
       "    }\n",
       "\n",
       "    .dataframe tbody tr th {\n",
       "        vertical-align: top;\n",
       "    }\n",
       "\n",
       "    .dataframe thead th {\n",
       "        text-align: right;\n",
       "    }\n",
       "</style>\n",
       "<table border=\"1\" class=\"dataframe\">\n",
       "  <thead>\n",
       "    <tr style=\"text-align: right;\">\n",
       "      <th></th>\n",
       "      <th>translation</th>\n",
       "      <th>label</th>\n",
       "      <th>channel</th>\n",
       "      <th>sample_rate</th>\n",
       "      <th>duration</th>\n",
       "    </tr>\n",
       "  </thead>\n",
       "  <tbody>\n",
       "    <tr>\n",
       "      <th>4133</th>\n",
       "      <td>እኛ ም እ ኮ ፉትቦል ን እንወዳ ለ ን</td>\n",
       "      <td>tr_3933_tr40034</td>\n",
       "      <td>1</td>\n",
       "      <td>8000</td>\n",
       "      <td>2.048</td>\n",
       "    </tr>\n",
       "    <tr>\n",
       "      <th>1476</th>\n",
       "      <td>አሸናፊ ፈጣን ተጨዋች ነው</td>\n",
       "      <td>tr_1541_tr16042</td>\n",
       "      <td>1</td>\n",
       "      <td>8000</td>\n",
       "      <td>2.048</td>\n",
       "    </tr>\n",
       "    <tr>\n",
       "      <th>408</th>\n",
       "      <td>እንስራ ው ተ ሸነቆረ</td>\n",
       "      <td>tr_10369_tr100091</td>\n",
       "      <td>1</td>\n",
       "      <td>8000</td>\n",
       "      <td>2.176</td>\n",
       "    </tr>\n",
       "    <tr>\n",
       "      <th>73</th>\n",
       "      <td>ጥያቄ ያችን ጆንያ ሙሉ ነው</td>\n",
       "      <td>tr_10067_tr098029</td>\n",
       "      <td>1</td>\n",
       "      <td>8000</td>\n",
       "      <td>2.176</td>\n",
       "    </tr>\n",
       "    <tr>\n",
       "      <th>3574</th>\n",
       "      <td>ኳስ ጨዋታ ኳስ ነው</td>\n",
       "      <td>tr_342_tr04042</td>\n",
       "      <td>1</td>\n",
       "      <td>8000</td>\n",
       "      <td>2.176</td>\n",
       "    </tr>\n",
       "    <tr>\n",
       "      <th>...</th>\n",
       "      <td>...</td>\n",
       "      <td>...</td>\n",
       "      <td>...</td>\n",
       "      <td>...</td>\n",
       "      <td>...</td>\n",
       "    </tr>\n",
       "    <tr>\n",
       "      <th>2614</th>\n",
       "      <td>በ አውሮፕላኗ ተመትቶ መውደቅ ሳቢያ ዜጐቻቸው ን ላ ጡት የ ብሪታኒያ ና ...</td>\n",
       "      <td>tr_2566_tr26067</td>\n",
       "      <td>1</td>\n",
       "      <td>8000</td>\n",
       "      <td>20.352</td>\n",
       "    </tr>\n",
       "    <tr>\n",
       "      <th>1652</th>\n",
       "      <td>ሁሴን አይዲድ እንደ ገለጹት ኢትዮጵያ ሁኔታዎች ከ ተመቻቹ ላት ሶማሊያ ን...</td>\n",
       "      <td>tr_16_tr01016</td>\n",
       "      <td>1</td>\n",
       "      <td>8000</td>\n",
       "      <td>20.736</td>\n",
       "    </tr>\n",
       "    <tr>\n",
       "      <th>2222</th>\n",
       "      <td>ከ ግዛታቸው ዋ ና ከተማ ጋሪ ስ ሆነው በ ስልክ ሚስተር ሞሪስ ከ ስደተኞ...</td>\n",
       "      <td>tr_2212_tr23013</td>\n",
       "      <td>1</td>\n",
       "      <td>8000</td>\n",
       "      <td>20.992</td>\n",
       "    </tr>\n",
       "    <tr>\n",
       "      <th>2608</th>\n",
       "      <td>የተ ለቀቁት ምርኮኞች በ አካባቢያቸው ሰላማዊ ኑሮ እንዲ ኖሩ የ ትራንስፖ...</td>\n",
       "      <td>tr_2560_tr26061</td>\n",
       "      <td>1</td>\n",
       "      <td>8000</td>\n",
       "      <td>21.120</td>\n",
       "    </tr>\n",
       "    <tr>\n",
       "      <th>2613</th>\n",
       "      <td>የ ትምህርት ደረጃቸው ንና የ አገልግሎት ሁኔታ ቸውን ስን መረምር የሚ ደ...</td>\n",
       "      <td>tr_2565_tr26066</td>\n",
       "      <td>1</td>\n",
       "      <td>8000</td>\n",
       "      <td>22.784</td>\n",
       "    </tr>\n",
       "  </tbody>\n",
       "</table>\n",
       "<p>5000 rows × 5 columns</p>\n",
       "</div>"
      ],
      "text/plain": [
       "                                            translation              label  \\\n",
       "4133                           እኛ ም እ ኮ ፉትቦል ን እንወዳ ለ ን    tr_3933_tr40034   \n",
       "1476                                   አሸናፊ ፈጣን ተጨዋች ነው    tr_1541_tr16042   \n",
       "408                                       እንስራ ው ተ ሸነቆረ  tr_10369_tr100091   \n",
       "73                                    ጥያቄ ያችን ጆንያ ሙሉ ነው  tr_10067_tr098029   \n",
       "3574                                       ኳስ ጨዋታ ኳስ ነው     tr_342_tr04042   \n",
       "...                                                 ...                ...   \n",
       "2614  በ አውሮፕላኗ ተመትቶ መውደቅ ሳቢያ ዜጐቻቸው ን ላ ጡት የ ብሪታኒያ ና ...    tr_2566_tr26067   \n",
       "1652  ሁሴን አይዲድ እንደ ገለጹት ኢትዮጵያ ሁኔታዎች ከ ተመቻቹ ላት ሶማሊያ ን...      tr_16_tr01016   \n",
       "2222  ከ ግዛታቸው ዋ ና ከተማ ጋሪ ስ ሆነው በ ስልክ ሚስተር ሞሪስ ከ ስደተኞ...    tr_2212_tr23013   \n",
       "2608  የተ ለቀቁት ምርኮኞች በ አካባቢያቸው ሰላማዊ ኑሮ እንዲ ኖሩ የ ትራንስፖ...    tr_2560_tr26061   \n",
       "2613  የ ትምህርት ደረጃቸው ንና የ አገልግሎት ሁኔታ ቸውን ስን መረምር የሚ ደ...    tr_2565_tr26066   \n",
       "\n",
       "      channel  sample_rate  duration  \n",
       "4133        1         8000     2.048  \n",
       "1476        1         8000     2.048  \n",
       "408         1         8000     2.176  \n",
       "73          1         8000     2.176  \n",
       "3574        1         8000     2.176  \n",
       "...       ...          ...       ...  \n",
       "2614        1         8000    20.352  \n",
       "1652        1         8000    20.736  \n",
       "2222        1         8000    20.992  \n",
       "2608        1         8000    21.120  \n",
       "2613        1         8000    22.784  \n",
       "\n",
       "[5000 rows x 5 columns]"
      ]
     },
     "execution_count": 15,
     "metadata": {},
     "output_type": "execute_result"
    }
   ],
   "source": [
    "sorted_metadata = meta_data.sort_values(by=\"duration\")\n",
    "labels = sorted_metadata['label'].to_list()\n",
    "sorted_metadata"
   ]
  },
  {
   "cell_type": "markdown",
   "id": "2618565e",
   "metadata": {},
   "source": [
    "#### extracting audios and translations in lists"
   ]
  },
  {
   "cell_type": "code",
   "execution_count": 16,
   "id": "ef6a4e11",
   "metadata": {
    "executionInfo": {
     "elapsed": 553,
     "status": "ok",
     "timestamp": 1628699415091,
     "user": {
      "displayName": "Daniel Zelalem",
      "photoUrl": "",
      "userId": "17933366000899068375"
     },
     "user_tz": -180
    },
    "id": "ef6a4e11"
   },
   "outputs": [],
   "source": [
    "audios = []\n",
    "for label in labels:\n",
    "    audios.append(audio_obj[label][0])\n",
    "    \n",
    "translations = []\n",
    "for label in labels:\n",
    "    translations.append(translation_obj[label])"
   ]
  },
  {
   "cell_type": "markdown",
   "id": "93e0c54a",
   "metadata": {},
   "source": [
    "### Build function"
   ]
  },
  {
   "cell_type": "markdown",
   "id": "6dc44f6b",
   "metadata": {},
   "source": [
    "- Build function takes a speech model and a preprocessing model (a model that gives melespectrogram features) and build them into a single speech model"
   ]
  },
  {
   "cell_type": "code",
   "execution_count": 17,
   "id": "3675d659",
   "metadata": {
    "executionInfo": {
     "elapsed": 4,
     "status": "ok",
     "timestamp": 1628699416838,
     "user": {
      "displayName": "Daniel Zelalem",
      "photoUrl": "",
      "userId": "17933366000899068375"
     },
     "user_tz": -180
    },
    "id": "3675d659"
   },
   "outputs": [],
   "source": [
    "def build_model(output_dim, custom_model, preprocess_model, mfcc=False, calc=None):\n",
    "\n",
    "    input_audios = Input(name='the_input', shape=(None,))\n",
    "    pre = preprocess_model(input_audios)\n",
    "    pre = tf.squeeze(pre, [3])\n",
    "\n",
    "    y_pred = custom_model(pre)\n",
    "    model = Model(inputs=input_audios, outputs=y_pred, name=\"model_builder\")\n",
    "    model.output_length = calc\n",
    "\n",
    "    return model"
   ]
  },
  {
   "cell_type": "markdown",
   "id": "701a3070",
   "metadata": {},
   "source": [
    "### Predict function"
   ]
  },
  {
   "cell_type": "code",
   "execution_count": 18,
   "id": "CKKxhFiFozcF",
   "metadata": {
    "executionInfo": {
     "elapsed": 3,
     "status": "ok",
     "timestamp": 1628699418994,
     "user": {
      "displayName": "Daniel Zelalem",
      "photoUrl": "",
      "userId": "17933366000899068375"
     },
     "user_tz": -180
    },
    "id": "CKKxhFiFozcF"
   },
   "outputs": [],
   "source": [
    "def predict(model, audio, tokenizer, int_to_char, actual=None):\n",
    "    \n",
    "    pred_audios = tf.convert_to_tensor([audio])\n",
    "    \n",
    "    y_pred = model.predict(pred_audios)\n",
    "\n",
    "    input_shape = tf.keras.backend.shape(y_pred)\n",
    "    input_length = tf.ones(shape=input_shape[0]) * tf.keras.backend.cast(input_shape[1], 'float32')\n",
    "    prediction = tf.keras.backend.ctc_decode(y_pred, input_length, greedy=False)[0][0]\n",
    "        \n",
    "    pred = K.eval(prediction).flatten().tolist()\n",
    "    pred = [i for i in pred if i != -1]\n",
    "    \n",
    "    predicted_text = tokenizer.decode_text(pred, int_to_char)\n",
    "    \n",
    "    error = None\n",
    "    if actual != None:\n",
    "        error = wer(actual, predicted_text)\n",
    "   \n",
    "    return predicted_text, error"
   ]
  },
  {
   "cell_type": "markdown",
   "id": "e68b421f",
   "metadata": {},
   "source": [
    "### Init our translation tokenizer and build a charchter mapping dict"
   ]
  },
  {
   "cell_type": "code",
   "execution_count": 19,
   "id": "107cd033",
   "metadata": {
    "colab": {
     "base_uri": "https://localhost:8080/"
    },
    "executionInfo": {
     "elapsed": 725,
     "status": "ok",
     "timestamp": 1628699421859,
     "user": {
      "displayName": "Daniel Zelalem",
      "photoUrl": "",
      "userId": "17933366000899068375"
     },
     "user_tz": -180
    },
    "id": "107cd033",
    "outputId": "2803c0e0-8fa0-4a94-948a-caa10db28729"
   },
   "outputs": [
    {
     "name": "stdout",
     "output_type": "stream",
     "text": [
      "sample snt: እኛ ም እ ኮ ፉትቦል ን እንወዳ ለ ን\n",
      "encoded snt: [13, 74, 1, 16, 1, 13, 1, 67, 1, 142, 3, 122, 12, 1, 2, 1, 13, 2, 37, 39, 1, 11, 1, 2]\n",
      "decoed snt: እኛ ም እ ኮ ፉትቦል ን እንወዳ ለ ን\n"
     ]
    }
   ],
   "source": [
    "tokenizer = Tokenizer(translations)\n",
    "int_to_char, char_to_int = tokenizer.build_dict()\n",
    "sample = translations[0]\n",
    "encoded = tokenizer.encode(sample, char_to_int)\n",
    "decoded = tokenizer.decode_text(encoded, int_to_char)\n",
    "\n",
    "print(f\"sample snt: {sample}\")\n",
    "print(f\"encoded snt: {encoded}\")\n",
    "print(f\"decoed snt: {decoded}\")"
   ]
  },
  {
   "cell_type": "code",
   "execution_count": 20,
   "id": "353195f4",
   "metadata": {},
   "outputs": [],
   "source": [
    "helper.write_obj(\"../int_to_char.pkl\", int_to_char)\n",
    "helper.write_obj(\"../char_to_int.pkl\", char_to_int)"
   ]
  },
  {
   "cell_type": "markdown",
   "id": "92e07788",
   "metadata": {},
   "source": [
    "### init our variables"
   ]
  },
  {
   "cell_type": "code",
   "execution_count": 21,
   "id": "bdea9379",
   "metadata": {
    "executionInfo": {
     "elapsed": 3,
     "status": "ok",
     "timestamp": 1628699424858,
     "user": {
      "displayName": "Daniel Zelalem",
      "photoUrl": "",
      "userId": "17933366000899068375"
     },
     "user_tz": -180
    },
    "id": "bdea9379"
   },
   "outputs": [],
   "source": [
    "\n",
    "sample_rate = 8000\n",
    "fft_size = 512\n",
    "frame_step = 256\n",
    "n_mels = 128\n",
    "\n",
    "batch_size = 100\n",
    "epochs = 20\n",
    "data_len = len(translations)\n",
    "output_dim = len(char_to_int) + 2\n"
   ]
  },
  {
   "cell_type": "markdown",
   "id": "3e534a2f",
   "metadata": {},
   "source": [
    "### Init our DataGenerator and build our preprocessing model"
   ]
  },
  {
   "cell_type": "code",
   "execution_count": 22,
   "id": "cb25dda1",
   "metadata": {
    "colab": {
     "base_uri": "https://localhost:8080/"
    },
    "executionInfo": {
     "elapsed": 1693,
     "status": "ok",
     "timestamp": 1628699431823,
     "user": {
      "displayName": "Daniel Zelalem",
      "photoUrl": "",
      "userId": "17933366000899068375"
     },
     "user_tz": -180
    },
    "id": "cb25dda1",
    "outputId": "10156bd8-68dd-4ae4-fda4-c8ef21311ec1"
   },
   "outputs": [
    {
     "name": "stdout",
     "output_type": "stream",
     "text": [
      "Model: \"preprocessin_model\"\n",
      "_________________________________________________________________\n",
      " Layer (type)                Output Shape              Param #   \n",
      "=================================================================\n",
      " input (InputLayer)          [(None, None)]            0         \n",
      "                                                                 \n",
      " log_mel_spectrogram (LogMel  (None, None, 128, 1)     0         \n",
      " Spectrogram)                                                    \n",
      "                                                                 \n",
      " batch_normalization (BatchN  (None, None, 128, 1)     512       \n",
      " ormalization)                                                   \n",
      "                                                                 \n",
      "=================================================================\n",
      "Total params: 512\n",
      "Trainable params: 256\n",
      "Non-trainable params: 256\n",
      "_________________________________________________________________\n"
     ]
    }
   ],
   "source": [
    "dg = DataGenerator(translations, audios, batch_size, shuffle=True)\n",
    "preprocess_model = preprocessin_model(sample_rate, fft_size, frame_step, n_mels)\n",
    "preprocess_model.summary()"
   ]
  },
  {
   "cell_type": "markdown",
   "id": "0eac923e",
   "metadata": {},
   "source": [
    "### checking log melespectorgram of sample audio data using our preprocessing model"
   ]
  },
  {
   "cell_type": "code",
   "execution_count": 23,
   "id": "3a4919df",
   "metadata": {},
   "outputs": [],
   "source": [
    "import librosa.display"
   ]
  },
  {
   "cell_type": "code",
   "execution_count": 24,
   "id": "ZdGw4xLn2L34",
   "metadata": {
    "colab": {
     "base_uri": "https://localhost:8080/",
     "height": 289
    },
    "executionInfo": {
     "elapsed": 3181,
     "status": "ok",
     "timestamp": 1628699180083,
     "user": {
      "displayName": "Daniel Zelalem",
      "photoUrl": "",
      "userId": "17933366000899068375"
     },
     "user_tz": -180
    },
    "id": "ZdGw4xLn2L34",
    "outputId": "c52302db-2df7-4ed7-ba14-351efc8ae59f"
   },
   "outputs": [
    {
     "name": "stdout",
     "output_type": "stream",
     "text": [
      "(1, 31744)\n"
     ]
    },
    {
     "data": {
      "text/plain": [
       "(1, 123, 128, 1)"
      ]
     },
     "metadata": {},
     "output_type": "display_data"
    },
    {
     "name": "stdout",
     "output_type": "stream",
     "text": [
      "char_len 48\n"
     ]
    },
    {
     "data": {
      "image/png": "[encoded data removed]",
      "text/plain": [
       "<Figure size 1152x288 with 1 Axes>"
      ]
     },
     "metadata": {},
     "output_type": "display_data"
    }
   ],
   "source": [
    "import librosa\n",
    "sample_audio = dg[0][0]['the_input'][0].numpy()\n",
    "sample_lbl = dg[0][0]['the_labels'][0].numpy()\n",
    "\n",
    "a = np.zeros((1, len(sample_audio)))\n",
    "a[0, ] = sample_audio\n",
    "print(a.shape)\n",
    "pred = preprocess_model.predict(a)\n",
    "fig, ax = plt.subplots(figsize=(16, 4))\n",
    "display(pred.shape)\n",
    "pred = pred[0, :, :, 0]\n",
    "librosa.display.specshow(pred.T, sr=8000, hop_length=128, cmap=\"jet\")\n",
    "print(\"char_len\", len(sample_lbl))"
   ]
  },
  {
   "cell_type": "code",
   "execution_count": 25,
   "id": "XeV4Uu6eCxRr",
   "metadata": {
    "colab": {
     "base_uri": "https://localhost:8080/",
     "height": 289
    },
    "executionInfo": {
     "elapsed": 778,
     "status": "ok",
     "timestamp": 1628679511029,
     "user": {
      "displayName": "Daniel Zelalem",
      "photoUrl": "",
      "userId": "17933366000899068375"
     },
     "user_tz": -180
    },
    "id": "XeV4Uu6eCxRr",
    "outputId": "5f1be4d3-0be4-46fb-a9f5-7fde8586829a"
   },
   "outputs": [
    {
     "name": "stdout",
     "output_type": "stream",
     "text": [
      "(1, 80896)\n"
     ]
    },
    {
     "data": {
      "text/plain": [
       "(1, 315, 128, 1)"
      ]
     },
     "metadata": {},
     "output_type": "display_data"
    },
    {
     "name": "stdout",
     "output_type": "stream",
     "text": [
      "char_len 126\n"
     ]
    },
    {
     "data": {
      "image/png": "[encoded data removed]",
      "text/plain": [
       "<Figure size 1152x288 with 1 Axes>"
      ]
     },
     "metadata": {},
     "output_type": "display_data"
    }
   ],
   "source": [
    "\n",
    "sample_audio = dg[49][0]['the_input'][-1].numpy()\n",
    "sample_lbl = dg[49][0]['the_labels'][-1].numpy()\n",
    "\n",
    "a = np.zeros((1, len(sample_audio)))\n",
    "a[0, ] = sample_audio\n",
    "print(a.shape)\n",
    "pred = preprocess_model.predict(a)\n",
    "fig, ax = plt.subplots(figsize=(16, 4))\n",
    "display(pred.shape)\n",
    "pred = pred[0, :, :, 0]\n",
    "librosa.display.specshow(pred.T, sr=8000, hop_length=128, cmap=\"jet\")\n",
    "print(\"char_len\", len(sample_lbl))"
   ]
  },
  {
   "cell_type": "markdown",
   "id": "0cd4bbf1",
   "metadata": {
    "id": "myDkV2oA2YY5"
   },
   "source": [
    "### 1. Simple RNN model for speech to text"
   ]
  },
  {
   "cell_type": "markdown",
   "id": "661fb764",
   "metadata": {},
   "source": [
    "#### creating a simple rnn model"
   ]
  },
  {
   "cell_type": "code",
   "execution_count": 26,
   "id": "e43ae703",
   "metadata": {
    "colab": {
     "base_uri": "https://localhost:8080/"
    },
    "executionInfo": {
     "elapsed": 610,
     "status": "ok",
     "timestamp": 1628679533946,
     "user": {
      "displayName": "Daniel Zelalem",
      "photoUrl": "",
      "userId": "17933366000899068375"
     },
     "user_tz": -180
    },
    "id": "e43ae703",
    "outputId": "7785164e-5e79-4509-f847-fa4735f8ad84"
   },
   "outputs": [
    {
     "name": "stdout",
     "output_type": "stream",
     "text": [
      "Model: \"simple_rnn_model\"\n",
      "_________________________________________________________________\n",
      " Layer (type)                Output Shape              Param #   \n",
      "=================================================================\n",
      " the_input (InputLayer)      [(None, None, 128)]       0         \n",
      "                                                                 \n",
      " rnn (GRU)                   (None, None, 223)         236157    \n",
      "                                                                 \n",
      " softmax (Activation)        (None, None, 223)         0         \n",
      "                                                                 \n",
      "=================================================================\n",
      "Total params: 236,157\n",
      "Trainable params: 236,157\n",
      "Non-trainable params: 0\n",
      "_________________________________________________________________\n"
     ]
    }
   ],
   "source": [
    "speech_simple_rnn = simple_rnn_model(n_mels, output_dim)\n",
    "speech_simple_rnn.summary()"
   ]
  },
  {
   "cell_type": "markdown",
   "id": "89cf48ad",
   "metadata": {},
   "source": [
    "#### Building a simple rnn moel by stacking preprocessin_model and speech_simple_rnn"
   ]
  },
  {
   "cell_type": "code",
   "execution_count": 27,
   "id": "b8e25a3f",
   "metadata": {
    "colab": {
     "base_uri": "https://localhost:8080/"
    },
    "executionInfo": {
     "elapsed": 412,
     "status": "ok",
     "timestamp": 1628679536551,
     "user": {
      "displayName": "Daniel Zelalem",
      "photoUrl": "",
      "userId": "17933366000899068375"
     },
     "user_tz": -180
    },
    "id": "b8e25a3f",
    "outputId": "ef5342d7-b372-4a01-aa3b-b7125ba742e0"
   },
   "outputs": [
    {
     "name": "stdout",
     "output_type": "stream",
     "text": [
      "Model: \"model_builder\"\n",
      "_________________________________________________________________\n",
      " Layer (type)                Output Shape              Param #   \n",
      "=================================================================\n",
      " the_input (InputLayer)      [(None, None)]            0         \n",
      "                                                                 \n",
      " preprocessin_model (Functio  (None, None, 128, 1)     512       \n",
      " nal)                                                            \n",
      "                                                                 \n",
      " tf.compat.v1.squeeze (TFOpL  (None, None, 128)        0         \n",
      " ambda)                                                          \n",
      "                                                                 \n",
      " simple_rnn_model (Functiona  (None, None, 223)        236157    \n",
      " l)                                                              \n",
      "                                                                 \n",
      "=================================================================\n",
      "Total params: 236,669\n",
      "Trainable params: 236,413\n",
      "Non-trainable params: 256\n",
      "_________________________________________________________________\n"
     ]
    }
   ],
   "source": [
    "simple_rnn_speech_model = build_model(output_dim, speech_simple_rnn, preprocess_model)\n",
    "simple_rnn_speech_model.summary()"
   ]
  },
  {
   "cell_type": "markdown",
   "id": "85c2c2cb",
   "metadata": {},
   "source": [
    "#### Training"
   ]
  },
  {
   "cell_type": "code",
   "execution_count": 28,
   "id": "01feee42",
   "metadata": {
    "colab": {
     "base_uri": "https://localhost:8080/"
    },
    "executionInfo": {
     "elapsed": 246858,
     "status": "ok",
     "timestamp": 1628679787023,
     "user": {
      "displayName": "Daniel Zelalem",
      "photoUrl": "",
      "userId": "17933366000899068375"
     },
     "user_tz": -180
    },
    "id": "01feee42",
    "outputId": "41153299-6698-4e00-a9fe-218f47b93b90"
   },
   "outputs": [
    {
     "name": "stdout",
     "output_type": "stream",
     "text": [
      "Model: \"model\"\n",
      "__________________________________________________________________________________________________\n",
      " Layer (type)                   Output Shape         Param #     Connected to                     \n",
      "==================================================================================================\n",
      " the_input (InputLayer)         [(None, None)]       0           []                               \n",
      "                                                                                                  \n",
      " preprocessin_model (Functional  (None, None, 128, 1  512        ['the_input[0][0]']              \n",
      " )                              )                                                                 \n",
      "                                                                                                  \n",
      " tf.compat.v1.squeeze (TFOpLamb  (None, None, 128)   0           ['preprocessin_model[0][0]']     \n",
      " da)                                                                                              \n",
      "                                                                                                  \n",
      " input_length (InputLayer)      [(None, 1)]          0           []                               \n",
      "                                                                                                  \n",
      " simple_rnn_model (Functional)  (None, None, 223)    236157      ['tf.compat.v1.squeeze[0][0]']   \n",
      "                                                                                                  \n",
      " the_labels (InputLayer)        [(None, None)]       0           []                               \n",
      "                                                                                                  \n",
      " lambda (Lambda)                (None, 1)            0           ['input_length[0][0]']           \n",
      "                                                                                                  \n",
      " label_length (InputLayer)      [(None, 1)]          0           []                               \n",
      "                                                                                                  \n",
      " ctc (Lambda)                   (None, 1)            0           ['simple_rnn_model[0][0]',       \n",
      "                                                                  'the_labels[0][0]',             \n",
      "                                                                  'lambda[0][0]',                 \n",
      "                                                                  'label_length[0][0]']           \n",
      "                                                                                                  \n",
      "==================================================================================================\n",
      "Total params: 236,669\n",
      "Trainable params: 236,413\n",
      "Non-trainable params: 256\n",
      "__________________________________________________________________________________________________\n",
      "None\n",
      "Epoch 1/20\n",
      "50/50 [==============================] - 64s 1s/step - loss: 739.4267\n",
      "Epoch 2/20\n",
      "50/50 [==============================] - 62s 1s/step - loss: 683.7390\n",
      "Epoch 3/20\n",
      "50/50 [==============================] - 62s 1s/step - loss: 683.1047\n",
      "Epoch 4/20\n",
      "50/50 [==============================] - 61s 1s/step - loss: 682.6080\n",
      "Epoch 5/20\n",
      "50/50 [==============================] - 63s 1s/step - loss: 682.3000\n",
      "Epoch 6/20\n",
      "50/50 [==============================] - 64s 1s/step - loss: 681.9697\n",
      "Epoch 7/20\n",
      "50/50 [==============================] - 66s 1s/step - loss: 681.8429\n",
      "Epoch 8/20\n",
      "50/50 [==============================] - 64s 1s/step - loss: 681.6860\n",
      "Epoch 9/20\n",
      "50/50 [==============================] - 67s 1s/step - loss: 681.6017\n",
      "Epoch 10/20\n",
      "50/50 [==============================] - 68s 1s/step - loss: 681.5187\n",
      "Epoch 11/20\n",
      "50/50 [==============================] - 91s 2s/step - loss: 681.4237\n",
      "Epoch 12/20\n",
      "50/50 [==============================] - 102s 2s/step - loss: 681.4814\n",
      "Epoch 13/20\n",
      "50/50 [==============================] - 104s 2s/step - loss: 681.3731\n",
      "Epoch 14/20\n",
      "50/50 [==============================] - 106s 2s/step - loss: 681.2877\n",
      "Epoch 15/20\n",
      "50/50 [==============================] - 103s 2s/step - loss: 681.2274\n",
      "Epoch 16/20\n",
      "50/50 [==============================] - 105s 2s/step - loss: 681.2101\n",
      "Epoch 17/20\n",
      "50/50 [==============================] - 97s 2s/step - loss: 681.1917\n",
      "Epoch 18/20\n",
      "50/50 [==============================] - 98s 2s/step - loss: 681.0190\n",
      "Epoch 19/20\n",
      "50/50 [==============================] - 103s 2s/step - loss: 680.9227\n",
      "Epoch 20/20\n",
      "50/50 [==============================] - 108s 2s/step - loss: 680.8389\n"
     ]
    },
    {
     "data": {
      "text/plain": [
       "<keras.engine.functional.Functional at 0x262a0854a90>"
      ]
     },
     "execution_count": 28,
     "metadata": {},
     "output_type": "execute_result"
    }
   ],
   "source": [
    "# mlflow.set_experiment('Speech Model-RNN-baseline')\n",
    "# mlflow.tensorflow.autolog()\n",
    "train(simple_rnn_speech_model, dg, epochs=20, save_path=\"../models/simple_rnn_model.h5\",  batch_size=batch_size)"
   ]
  },
  {
   "cell_type": "markdown",
   "id": "55bc4ecd",
   "metadata": {},
   "source": [
    "#### Predicting using simple rnn model"
   ]
  },
  {
   "cell_type": "code",
   "execution_count": 29,
   "id": "5qmBzRhlmmgh",
   "metadata": {
    "colab": {
     "base_uri": "https://localhost:8080/"
    },
    "executionInfo": {
     "elapsed": 1256,
     "status": "ok",
     "timestamp": 1628679833252,
     "user": {
      "displayName": "Daniel Zelalem",
      "photoUrl": "",
      "userId": "17933366000899068375"
     },
     "user_tz": -180
    },
    "id": "5qmBzRhlmmgh",
    "outputId": "9ae51d9d-88f5-41c3-c645-22e1abbccc0b"
   },
   "outputs": [
    {
     "name": "stdout",
     "output_type": "stream",
     "text": [
      "actual በ ባህል በ ቋንቋ አንድ ናቸው\n",
      "predicted  አ ት ያ ያ አ ት ለ ለ ለ ለ ለ \n",
      "WER:  1.8333333333333333\n"
     ]
    }
   ],
   "source": [
    "\n",
    "simple_rnn_speech_model.load_weights(\"../models/simple_rnn_model.h5\")\n",
    "\n",
    "\n",
    "actual_translation = translations[10]\n",
    "sample_test_audio = audios[0]\n",
    "predicted, error = predict(simple_rnn_speech_model, sample_test_audio , tokenizer, int_to_char, actual=actual_translation)\n",
    "\n",
    "print(\"actual\", actual_translation)\n",
    "print(\"predicted\", predicted)\n",
    "print(\"WER: \", error)\n"
   ]
  },
  {
   "cell_type": "code",
   "execution_count": 30,
   "id": "X1fMYpsW-3M6",
   "metadata": {
    "executionInfo": {
     "elapsed": 779,
     "status": "ok",
     "timestamp": 1628699442061,
     "user": {
      "displayName": "Daniel Zelalem",
      "photoUrl": "",
      "userId": "17933366000899068375"
     },
     "user_tz": -180
    },
    "id": "X1fMYpsW-3M6"
   },
   "outputs": [],
   "source": [
    "# def ctc_lambda_func(args):\n",
    "#     y_pred, labels, input_length, label_length = args\n",
    "#     return K.ctc_batch_cost(labels, y_pred, input_length, label_length)\n",
    "\n",
    "\n",
    "# def input_lengths_lambda_func(args):\n",
    "#     hop_size = frame_step\n",
    "#     input_length = args\n",
    "#     return tf.cast(tf.math.ceil(input_length/hop_size)-1, dtype=\"float32\")\n",
    "\n",
    "\n",
    "# def add_ctc_loss(model_builder):\n",
    "#     the_labels = Input(name='the_labels',      shape=(None,), dtype='float32')\n",
    "#     input_lengths = Input(name='input_length',    shape=(1,), dtype='float32')\n",
    "#     label_lengths = Input(name='label_length',    shape=(1,), dtype='float32')\n",
    "\n",
    "#     input_lengths2 = Lambda(input_lengths_lambda_func)(input_lengths)\n",
    "#     if model_builder.output_length:\n",
    "#         output_lengths = Lambda(\n",
    "#             model_builder.output_length)(input_lengths2)\n",
    "#     else:\n",
    "#         output_lengths = input_lengths2\n",
    "\n",
    "#     loss_out = Lambda(ctc_lambda_func, output_shape=(1,), name='ctc')(\n",
    "#         [model_builder.output, the_labels, output_lengths, label_lengths])\n",
    "#     model = Model(inputs=[model_builder.input, the_labels,\n",
    "#                   input_lengths, label_lengths],  outputs=loss_out)\n",
    "#     return model"
   ]
  },
  {
   "cell_type": "markdown",
   "id": "e1621a85",
   "metadata": {},
   "source": [
    "### 2. Using CNN + simple rnn"
   ]
  },
  {
   "cell_type": "markdown",
   "id": "7108a01e",
   "metadata": {},
   "source": [
    "#### Creating cnn_rnn model"
   ]
  },
  {
   "cell_type": "code",
   "execution_count": 31,
   "id": "w6LXjBNVyq_f",
   "metadata": {
    "colab": {
     "base_uri": "https://localhost:8080/"
    },
    "executionInfo": {
     "elapsed": 387,
     "status": "ok",
     "timestamp": 1628682451974,
     "user": {
      "displayName": "Daniel Zelalem",
      "photoUrl": "",
      "userId": "17933366000899068375"
     },
     "user_tz": -180
    },
    "id": "w6LXjBNVyq_f",
    "outputId": "f3e38510-ea5e-4a5f-c69e-7b50a9cb8422"
   },
   "outputs": [
    {
     "name": "stdout",
     "output_type": "stream",
     "text": [
      "Model: \"model_1\"\n",
      "_________________________________________________________________\n",
      " Layer (type)                Output Shape              Param #   \n",
      "=================================================================\n",
      " the_input (InputLayer)      [(None, None, 128)]       0         \n",
      "                                                                 \n",
      " conv1d (Conv1D)             (None, None, 250)         128250    \n",
      "                                                                 \n",
      " bn_conv_1d (BatchNormalizat  (None, None, 250)        1000      \n",
      " ion)                                                            \n",
      "                                                                 \n",
      " rnn (SimpleRNN)             (None, None, 400)         260400    \n",
      "                                                                 \n",
      " batch_normalization_1 (Batc  (None, None, 400)        1600      \n",
      " hNormalization)                                                 \n",
      "                                                                 \n",
      " time_distributed (TimeDistr  (None, None, 223)        89423     \n",
      " ibuted)                                                         \n",
      "                                                                 \n",
      " softmax (Activation)        (None, None, 223)         0         \n",
      "                                                                 \n",
      "=================================================================\n",
      "Total params: 480,673\n",
      "Trainable params: 479,373\n",
      "Non-trainable params: 1,300\n",
      "_________________________________________________________________\n"
     ]
    }
   ],
   "source": [
    "speech_cnn_rnn = cnn_rnn_model(n_mels, 250, 4, 1, 'same', 400, output_dim)\n",
    "speech_cnn_rnn.summary()"
   ]
  },
  {
   "cell_type": "markdown",
   "id": "be79576d",
   "metadata": {},
   "source": [
    "#### Building a cnn_rnn speech model by stacking speech_cnn_rnn and preprocess_model"
   ]
  },
  {
   "cell_type": "code",
   "execution_count": 39,
   "id": "s56xi_OY1JRz",
   "metadata": {
    "colab": {
     "base_uri": "https://localhost:8080/"
    },
    "executionInfo": {
     "elapsed": 427,
     "status": "ok",
     "timestamp": 1628682459201,
     "user": {
      "displayName": "Daniel Zelalem",
      "photoUrl": "",
      "userId": "17933366000899068375"
     },
     "user_tz": -180
    },
    "id": "s56xi_OY1JRz",
    "outputId": "59e78795-252b-4c6e-d271-6a2cff16dd89"
   },
   "outputs": [
    {
     "name": "stdout",
     "output_type": "stream",
     "text": [
      "Model: \"model_builder\"\n",
      "_________________________________________________________________\n",
      " Layer (type)                Output Shape              Param #   \n",
      "=================================================================\n",
      " the_input (InputLayer)      [(None, None)]            0         \n",
      "                                                                 \n",
      " preprocessin_model (Functio  (None, None, 128, 1)     512       \n",
      " nal)                                                            \n",
      "                                                                 \n",
      " tf.compat.v1.squeeze_1 (TFO  (None, None, 128)        0         \n",
      " pLambda)                                                        \n",
      "                                                                 \n",
      " model_2 (Functional)        (None, None, 223)         480673    \n",
      "                                                                 \n",
      "=================================================================\n",
      "Total params: 481,185\n",
      "Trainable params: 479,629\n",
      "Non-trainable params: 1,556\n",
      "_________________________________________________________________\n"
     ]
    }
   ],
   "source": [
    "speech_cnn_rnn_model = build_model(output_dim, speech_cnn_rnn, preprocess_model)\n",
    "speech_cnn_rnn_model.summary()"
   ]
  },
  {
   "cell_type": "markdown",
   "id": "faacbd43",
   "metadata": {},
   "source": [
    "#### Training"
   ]
  },
  {
   "cell_type": "code",
   "execution_count": 40,
   "id": "M2bfG1CcFMYk",
   "metadata": {
    "colab": {
     "base_uri": "https://localhost:8080/"
    },
    "executionInfo": {
     "elapsed": 554119,
     "status": "ok",
     "timestamp": 1628683716655,
     "user": {
      "displayName": "Daniel Zelalem",
      "photoUrl": "",
      "userId": "17933366000899068375"
     },
     "user_tz": -180
    },
    "id": "M2bfG1CcFMYk",
    "outputId": "52e665ac-db82-488d-f0d7-a3d66921d1f2"
   },
   "outputs": [
    {
     "name": "stdout",
     "output_type": "stream",
     "text": [
      "Model: \"model_3\"\n",
      "__________________________________________________________________________________________________\n",
      " Layer (type)                   Output Shape         Param #     Connected to                     \n",
      "==================================================================================================\n",
      " the_input (InputLayer)         [(None, None)]       0           []                               \n",
      "                                                                                                  \n",
      " preprocessin_model (Functional  (None, None, 128, 1  512        ['the_input[0][0]']              \n",
      " )                              )                                                                 \n",
      "                                                                                                  \n",
      " tf.compat.v1.squeeze_1 (TFOpLa  (None, None, 128)   0           ['preprocessin_model[1][0]']     \n",
      " mbda)                                                                                            \n",
      "                                                                                                  \n",
      " input_length (InputLayer)      [(None, 1)]          0           []                               \n",
      "                                                                                                  \n",
      " model_2 (Functional)           (None, None, 223)    480673      ['tf.compat.v1.squeeze_1[0][0]'] \n",
      "                                                                                                  \n",
      " the_labels (InputLayer)        [(None, None)]       0           []                               \n",
      "                                                                                                  \n",
      " lambda_2 (Lambda)              (None, 1)            0           ['input_length[0][0]']           \n",
      "                                                                                                  \n",
      " label_length (InputLayer)      [(None, 1)]          0           []                               \n",
      "                                                                                                  \n",
      " ctc (Lambda)                   (None, 1)            0           ['model_2[0][0]',                \n",
      "                                                                  'the_labels[0][0]',             \n",
      "                                                                  'lambda_2[0][0]',               \n",
      "                                                                  'label_length[0][0]']           \n",
      "                                                                                                  \n",
      "==================================================================================================\n",
      "Total params: 481,185\n",
      "Trainable params: 479,629\n",
      "Non-trainable params: 1,556\n",
      "__________________________________________________________________________________________________\n",
      "None\n",
      "Epoch 1/20\n",
      "50/50 [==============================] - 90s 2s/step - loss: 269.4964\n",
      "Epoch 2/20\n",
      "50/50 [==============================] - 94s 2s/step - loss: 209.0383\n",
      "Epoch 3/20\n",
      "50/50 [==============================] - 84s 2s/step - loss: 203.9978\n",
      "Epoch 4/20\n",
      "50/50 [==============================] - 82s 2s/step - loss: nan\n",
      "Epoch 5/20\n",
      "50/50 [==============================] - 78s 2s/step - loss: nan\n",
      "Epoch 6/20\n",
      "50/50 [==============================] - 78s 2s/step - loss: nan\n",
      "Epoch 7/20\n",
      "50/50 [==============================] - 77s 2s/step - loss: nan\n",
      "Epoch 8/20\n",
      "50/50 [==============================] - 85s 2s/step - loss: nan\n",
      "Epoch 9/20\n",
      "50/50 [==============================] - 100s 2s/step - loss: nan\n",
      "Epoch 10/20\n",
      "50/50 [==============================] - 108s 2s/step - loss: nan\n",
      "Epoch 11/20\n",
      "50/50 [==============================] - 109s 2s/step - loss: nan\n",
      "Epoch 12/20\n",
      "50/50 [==============================] - 115s 2s/step - loss: nan\n",
      "Epoch 13/20\n",
      "50/50 [==============================] - 97s 2s/step - loss: nan\n",
      "Epoch 14/20\n",
      "50/50 [==============================] - 92s 2s/step - loss: nan\n",
      "Epoch 15/20\n",
      "50/50 [==============================] - 94s 2s/step - loss: nan\n",
      "Epoch 16/20\n",
      "50/50 [==============================] - 122s 2s/step - loss: nan\n",
      "Epoch 17/20\n",
      "50/50 [==============================] - 115s 2s/step - loss: nan\n",
      "Epoch 18/20\n",
      "50/50 [==============================] - 118s 2s/step - loss: nan\n",
      "Epoch 19/20\n",
      "50/50 [==============================] - 108s 2s/step - loss: nan\n",
      "Epoch 20/20\n",
      "50/50 [==============================] - 120s 2s/step - loss: nan\n"
     ]
    },
    {
     "data": {
      "text/plain": [
       "<keras.engine.functional.Functional at 0x2a7a99fc610>"
      ]
     },
     "execution_count": 40,
     "metadata": {},
     "output_type": "execute_result"
    }
   ],
   "source": [
    "\n",
    "train(speech_cnn_rnn_model, dg, epochs=20, save_path=\"../models/cnn_rnn_model.h5\",  batch_size=batch_size)\n"
   ]
  },
  {
   "cell_type": "markdown",
   "id": "e22464a4",
   "metadata": {},
   "source": [
    "#### Infer cnn_rnn_model"
   ]
  },
  {
   "cell_type": "code",
   "execution_count": 42,
   "id": "497eaeee",
   "metadata": {},
   "outputs": [
    {
     "name": "stdout",
     "output_type": "stream",
     "text": [
      "actual ባለስልጣናት ግልጽነት ና ተጠያቂነት እንዲ ኖራቸው ማድረግ ነው\n",
      "predicted \n",
      "WER: 1.00\n",
      "\n",
      "actual መኪኖች ና አምቡላንሶች ም ጉዳት ደርሶ ባቸዋል\n",
      "predicted \n",
      "WER: 1.00\n",
      "\n",
      "actual ኢትዮጵያ ደግሞ ለዚህ ብር ባለ እዳ ና ት\n",
      "predicted \n",
      "WER: 1.00\n",
      "\n",
      "actual ጠጁ ን ኰ መኰ መ ኰ መኰ መ ና ሚስቱ ን ሲ ያሰቃ ያት አደረ\n",
      "predicted \n",
      "WER: 1.00\n",
      "\n",
      "actual በ ኢትዮ ኬንያ ድንበር ሁለት መቶ ሰዎች ሞቱ\n",
      "predicted \n",
      "WER: 1.00\n",
      "\n",
      "actual በ ሶማሊያ ሳ ላት የሚገኙ በት አዲስ ኮንፍረ ን ስ እንዲጠራ ተጠየቀ\n",
      "predicted \n",
      "WER: 1.00\n",
      "\n",
      "actual እንደ ው ስለ ተጠየቅ ኩበት ሀሳቡ ን እንድታ ገኙ ት ነው\n",
      "predicted \n",
      "WER: 1.00\n",
      "\n",
      "actual ት ግስት እህቷ ን ስት ጓጉ ክረ ሚ እንጂ የኔ ን አይነት ሀብል አይገዛ ልሽ ም አለ ቻት\n",
      "predicted \n",
      "WER: 1.00\n",
      "\n",
      "actual ተግባራቸው ግን በስፋት እየ ተደገመ ነው\n",
      "predicted \n",
      "WER: 1.00\n",
      "\n",
      "actual ስድስት መቶ የሚሆኑ የ ኢትዮጵያ ና የ ሶማሊያ ስደተኞች የመን ገቡ\n",
      "predicted \n",
      "WER: 1.00\n",
      "\n"
     ]
    }
   ],
   "source": [
    "speech_cnn_rnn_model.load_weights(\"../models/cnn_rnn_model.h5\")\n",
    "\n",
    "for k in range(10):\n",
    "    \n",
    "\n",
    "    i = random.randint(0, 3000)\n",
    "    \n",
    "    actual_translation = translations[i]\n",
    "    sample_test_audio = audios[i]\n",
    "\n",
    "    predicted, error = predict(speech_cnn_rnn_model, sample_test_audio,\n",
    "                               tokenizer, int_to_char, actual=actual_translation)\n",
    "   \n",
    "    print(\"actual\", actual_translation)\n",
    "    print(\"predicted\", predicted)\n",
    "    print(f\"WER: {error:.2f}\")\n",
    "\n",
    "    print()"
   ]
  },
  {
   "cell_type": "markdown",
   "id": "3ccdcd98",
   "metadata": {
    "id": "cN2FhIzesUkJ"
   },
   "source": [
    "## FINAL MODEL BETTER MODEL"
   ]
  },
  {
   "cell_type": "markdown",
   "id": "6a31b0eb",
   "metadata": {
    "id": "8I9rcUBqsUsE"
   },
   "source": [
    "### 3. Using CNN and Bi directional rnn"
   ]
  },
  {
   "cell_type": "code",
   "execution_count": 32,
   "id": "_Rz94NaiCLRk",
   "metadata": {
    "executionInfo": {
     "elapsed": 540,
     "status": "ok",
     "timestamp": 1628699450931,
     "user": {
      "displayName": "Daniel Zelalem",
      "photoUrl": "",
      "userId": "17933366000899068375"
     },
     "user_tz": -180
    },
    "id": "_Rz94NaiCLRk"
   },
   "outputs": [],
   "source": [
    "# since this model requires expenisive resource for training, we minimize the batch size to 32\n",
    "\n",
    "batch_size = 32\n",
    "dg = DataGenerator(translations, audios, batch_size, shuffle=True)\n",
    "\n"
   ]
  },
  {
   "cell_type": "markdown",
   "id": "a78c79f4",
   "metadata": {},
   "source": [
    "#### First we create a cnn model that expects a logmelespectrogram prediction as input"
   ]
  },
  {
   "cell_type": "code",
   "execution_count": 33,
   "id": "RJBipVrVyD18",
   "metadata": {
    "colab": {
     "base_uri": "https://localhost:8080/"
    },
    "executionInfo": {
     "elapsed": 556,
     "status": "ok",
     "timestamp": 1628699455132,
     "user": {
      "displayName": "Daniel Zelalem",
      "photoUrl": "",
      "userId": "17933366000899068375"
     },
     "user_tz": -180
    },
    "id": "RJBipVrVyD18",
    "outputId": "567e673d-42bc-40ac-b82a-0e6966675169"
   },
   "outputs": [
    {
     "name": "stdout",
     "output_type": "stream",
     "text": [
      "Model: \"cnn\"\n",
      "_________________________________________________________________\n",
      " Layer (type)                Output Shape              Param #   \n",
      "=================================================================\n",
      " the_input (InputLayer)      [(None, None, 128, 1)]    0         \n",
      "                                                                 \n",
      " conv2d (Conv2D)             (None, None, 128, 128)    6400      \n",
      "                                                                 \n",
      " activation (Activation)     (None, None, 128, 128)    0         \n",
      "                                                                 \n",
      " batch_normalization_2 (Batc  (None, None, 128, 128)   512       \n",
      " hNormalization)                                                 \n",
      "                                                                 \n",
      " max_pooling2d (MaxPooling2D  (None, None, 64, 128)    0         \n",
      " )                                                               \n",
      "                                                                 \n",
      " conv2d_1 (Conv2D)           (None, None, 64, 64)      204864    \n",
      "                                                                 \n",
      " activation_1 (Activation)   (None, None, 64, 64)      0         \n",
      "                                                                 \n",
      " batch_normalization_3 (Batc  (None, None, 64, 64)     256       \n",
      " hNormalization)                                                 \n",
      "                                                                 \n",
      " max_pooling2d_1 (MaxPooling  (None, None, 32, 64)     0         \n",
      " 2D)                                                             \n",
      "                                                                 \n",
      " conv2d_2 (Conv2D)           (None, None, 32, 64)      36928     \n",
      "                                                                 \n",
      " activation_2 (Activation)   (None, None, 32, 64)      0         \n",
      "                                                                 \n",
      " batch_normalization_4 (Batc  (None, None, 32, 64)     256       \n",
      " hNormalization)                                                 \n",
      "                                                                 \n",
      " max_pooling2d_2 (MaxPooling  (None, None, 16, 64)     0         \n",
      " 2D)                                                             \n",
      "                                                                 \n",
      " reshape (Reshape)           (None, None, 1024)        0         \n",
      "                                                                 \n",
      "=================================================================\n",
      "Total params: 249,216\n",
      "Trainable params: 248,704\n",
      "Non-trainable params: 512\n",
      "_________________________________________________________________\n"
     ]
    },
    {
     "data": {
      "text/plain": [
       "(None, TensorShape([None, None, 1024]))"
      ]
     },
     "execution_count": 33,
     "metadata": {},
     "output_type": "execute_result"
    }
   ],
   "source": [
    "cnn_model, cnn_shape = CNN_net(n_mels)\n",
    "cnn_model.summary(), cnn_shape"
   ]
  },
  {
   "cell_type": "markdown",
   "id": "11e5a40c",
   "metadata": {},
   "source": [
    "#### Create our Bi directional RNN"
   ]
  },
  {
   "cell_type": "code",
   "execution_count": 34,
   "id": "6wTL17mK3hg4",
   "metadata": {
    "colab": {
     "base_uri": "https://localhost:8080/"
    },
    "executionInfo": {
     "elapsed": 3640,
     "status": "ok",
     "timestamp": 1628699464815,
     "user": {
      "displayName": "Daniel Zelalem",
      "photoUrl": "",
      "userId": "17933366000899068375"
     },
     "user_tz": -180
    },
    "id": "6wTL17mK3hg4",
    "outputId": "02e6d5b8-3326-4f57-c101-3fcbb215e2c2"
   },
   "outputs": [
    {
     "name": "stdout",
     "output_type": "stream",
     "text": [
      "Model: \"BidirectionalRNN\"\n",
      "_________________________________________________________________\n",
      " Layer (type)                Output Shape              Param #   \n",
      "=================================================================\n",
      " the_input (InputLayer)      [(None, None, 1024)]      0         \n",
      "                                                                 \n",
      " bidirectional (Bidirectiona  (None, None, 800)        4560000   \n",
      " l)                                                              \n",
      "                                                                 \n",
      " batch_normalization_5 (Batc  (None, None, 800)        3200      \n",
      " hNormalization)                                                 \n",
      "                                                                 \n",
      " dropout (Dropout)           (None, None, 800)         0         \n",
      "                                                                 \n",
      " bidirectional_1 (Bidirectio  (None, None, 800)        3843200   \n",
      " nal)                                                            \n",
      "                                                                 \n",
      " batch_normalization_6 (Batc  (None, None, 800)        3200      \n",
      " hNormalization)                                                 \n",
      "                                                                 \n",
      " dropout_1 (Dropout)         (None, None, 800)         0         \n",
      "                                                                 \n",
      " bidirectional_2 (Bidirectio  (None, None, 800)        3843200   \n",
      " nal)                                                            \n",
      "                                                                 \n",
      " batch_normalization_7 (Batc  (None, None, 800)        3200      \n",
      " hNormalization)                                                 \n",
      "                                                                 \n",
      " dropout_2 (Dropout)         (None, None, 800)         0         \n",
      "                                                                 \n",
      " bidirectional_3 (Bidirectio  (None, None, 800)        3843200   \n",
      " nal)                                                            \n",
      "                                                                 \n",
      " batch_normalization_8 (Batc  (None, None, 800)        3200      \n",
      " hNormalization)                                                 \n",
      "                                                                 \n",
      " dropout_3 (Dropout)         (None, None, 800)         0         \n",
      "                                                                 \n",
      " time_distributed_1 (TimeDis  (None, None, 223)        178623    \n",
      " tributed)                                                       \n",
      "                                                                 \n",
      " softmax (Activation)        (None, None, 223)         0         \n",
      "                                                                 \n",
      "=================================================================\n",
      "Total params: 16,281,023\n",
      "Trainable params: 16,274,623\n",
      "Non-trainable params: 6,400\n",
      "_________________________________________________________________\n"
     ]
    }
   ],
   "source": [
    "BI_RNN_2 = BidirectionalRNN2(1024, batch_size=batch_size, output_dim=output_dim)\n",
    "BI_RNN_2.summary()"
   ]
  },
  {
   "cell_type": "markdown",
   "id": "84188544",
   "metadata": {},
   "source": [
    "#### Define a builder that stacks preprocess_model, cnn_model and the custom model(BI-RNN) into a single model"
   ]
  },
  {
   "cell_type": "code",
   "execution_count": 35,
   "id": "fA-kpf8c5a0W",
   "metadata": {
    "executionInfo": {
     "elapsed": 5,
     "status": "ok",
     "timestamp": 1628699465570,
     "user": {
      "displayName": "Daniel Zelalem",
      "photoUrl": "",
      "userId": "17933366000899068375"
     },
     "user_tz": -180
    },
    "id": "fA-kpf8c5a0W"
   },
   "outputs": [],
   "source": [
    "def build_model2(output_dim, cnn_model, custom_model, preprocess_model, mfcc=False, calc=None):\n",
    "\n",
    "    input_audios = Input(name='the_input', shape=(None,))\n",
    "    pre = preprocess_model(input_audios)\n",
    "    pre = tf.squeeze(pre, [3])\n",
    "\n",
    "    cnn_output = cnn_model(pre)\n",
    "\n",
    "    y_pred = custom_model(cnn_output)\n",
    "    model = Model(inputs=input_audios, outputs=y_pred, name=\"model_builder\")\n",
    "    model.output_length = calc\n",
    "\n",
    "    return model"
   ]
  },
  {
   "cell_type": "markdown",
   "id": "53718565",
   "metadata": {},
   "source": [
    "#### Building our cnn-bi-rnn model using build2 function"
   ]
  },
  {
   "cell_type": "code",
   "execution_count": 36,
   "id": "jmo82oGp5xa8",
   "metadata": {
    "colab": {
     "base_uri": "https://localhost:8080/"
    },
    "executionInfo": {
     "elapsed": 3570,
     "status": "ok",
     "timestamp": 1628699471716,
     "user": {
      "displayName": "Daniel Zelalem",
      "photoUrl": "",
      "userId": "17933366000899068375"
     },
     "user_tz": -180
    },
    "id": "jmo82oGp5xa8",
    "outputId": "53400ce2-cee7-4401-bf0b-6030a37ac4d0"
   },
   "outputs": [
    {
     "name": "stdout",
     "output_type": "stream",
     "text": [
      "Model: \"model_builder\"\n",
      "_________________________________________________________________\n",
      " Layer (type)                Output Shape              Param #   \n",
      "=================================================================\n",
      " the_input (InputLayer)      [(None, None)]            0         \n",
      "                                                                 \n",
      " preprocessin_model (Functio  (None, None, 128, 1)     512       \n",
      " nal)                                                            \n",
      "                                                                 \n",
      " tf.compat.v1.squeeze_1 (TFO  (None, None, 128)        0         \n",
      " pLambda)                                                        \n",
      "                                                                 \n",
      " cnn (Functional)            (None, None, 1024)        249216    \n",
      "                                                                 \n",
      " BidirectionalRNN (Functiona  (None, None, 223)        16281023  \n",
      " l)                                                              \n",
      "                                                                 \n",
      "=================================================================\n",
      "Total params: 16,530,751\n",
      "Trainable params: 16,523,583\n",
      "Non-trainable params: 7,168\n",
      "_________________________________________________________________\n"
     ]
    }
   ],
   "source": [
    "cnn_bi_rnn_model = build_model2(output_dim, cnn_model, BI_RNN_2, preprocess_model)\n",
    "cnn_bi_rnn_model.summary()"
   ]
  },
  {
   "cell_type": "code",
   "execution_count": 37,
   "id": "X38CX655C2hb",
   "metadata": {
    "executionInfo": {
     "elapsed": 4,
     "status": "ok",
     "timestamp": 1628699512025,
     "user": {
      "displayName": "Daniel Zelalem",
      "photoUrl": "",
      "userId": "17933366000899068375"
     },
     "user_tz": -180
    },
    "id": "X38CX655C2hb"
   },
   "outputs": [],
   "source": [
    "# if a pretrained model exists load pretrained model\n",
    "try:\n",
    "    cnn_bi_rnn_model.load_weights(\"../models/cnn-bi-rnn.h5\")\n",
    "except:\n",
    "    pass"
   ]
  },
  {
   "cell_type": "markdown",
   "id": "ec35fcce",
   "metadata": {},
   "source": [
    "#### Training"
   ]
  },
  {
   "cell_type": "code",
   "execution_count": null,
   "id": "VpezKF8CAReX",
   "metadata": {
    "colab": {
     "base_uri": "https://localhost:8080/",
     "height": 956
    },
    "executionInfo": {
     "elapsed": 39382,
     "status": "error",
     "timestamp": 1628699374537,
     "user": {
      "displayName": "Daniel Zelalem",
      "photoUrl": "",
      "userId": "17933366000899068375"
     },
     "user_tz": -180
    },
    "id": "VpezKF8CAReX",
    "outputId": "53e03b76-3415-490a-ad59-872f9dfdfaf9"
   },
   "outputs": [
    {
     "name": "stdout",
     "output_type": "stream",
     "text": [
      "Model: \"model_2\"\n",
      "__________________________________________________________________________________________________\n",
      " Layer (type)                   Output Shape         Param #     Connected to                     \n",
      "==================================================================================================\n",
      " the_input (InputLayer)         [(None, None)]       0           []                               \n",
      "                                                                                                  \n",
      " preprocessin_model (Functional  (None, None, 128, 1  512        ['the_input[0][0]']              \n",
      " )                              )                                                                 \n",
      "                                                                                                  \n",
      " tf.compat.v1.squeeze_1 (TFOpLa  (None, None, 128)   0           ['preprocessin_model[1][0]']     \n",
      " mbda)                                                                                            \n",
      "                                                                                                  \n",
      " cnn (Functional)               (None, None, 1024)   249216      ['tf.compat.v1.squeeze_1[0][0]'] \n",
      "                                                                                                  \n",
      " input_length (InputLayer)      [(None, 1)]          0           []                               \n",
      "                                                                                                  \n",
      " BidirectionalRNN (Functional)  (None, None, 223)    16281023    ['cnn[0][0]']                    \n",
      "                                                                                                  \n",
      " the_labels (InputLayer)        [(None, None)]       0           []                               \n",
      "                                                                                                  \n",
      " lambda_1 (Lambda)              (None, 1)            0           ['input_length[0][0]']           \n",
      "                                                                                                  \n",
      " label_length (InputLayer)      [(None, 1)]          0           []                               \n",
      "                                                                                                  \n",
      " ctc (Lambda)                   (None, 1)            0           ['BidirectionalRNN[0][0]',       \n",
      "                                                                  'the_labels[0][0]',             \n",
      "                                                                  'lambda_1[0][0]',               \n",
      "                                                                  'label_length[0][0]']           \n",
      "                                                                                                  \n",
      "==================================================================================================\n",
      "Total params: 16,530,751\n",
      "Trainable params: 16,523,583\n",
      "Non-trainable params: 7,168\n",
      "__________________________________________________________________________________________________\n",
      "None\n",
      "Epoch 1/20\n",
      "156/156 [==============================] - 12338s 79s/step - loss: 236.7167\n",
      "Epoch 2/20\n",
      " 67/156 [===========>..................] - ETA: 2:20:01 - loss: 199.9380"
     ]
    }
   ],
   "source": [
    "train(cnn_bi_rnn_model, dg, epochs=20, save_path=\"../models/cnn_bi_rnn_model.h5\",  batch_size=batch_size)"
   ]
  },
  {
   "cell_type": "markdown",
   "id": "bdb75f4f",
   "metadata": {},
   "source": [
    "#### Inference"
   ]
  },
  {
   "cell_type": "code",
   "execution_count": null,
   "id": "SYqCyyi0SIYG",
   "metadata": {
    "colab": {
     "base_uri": "https://localhost:8080/"
    },
    "executionInfo": {
     "elapsed": 26235,
     "status": "ok",
     "timestamp": 1628699510451,
     "user": {
      "displayName": "Daniel Zelalem",
      "photoUrl": "",
      "userId": "17933366000899068375"
     },
     "user_tz": -180
    },
    "id": "SYqCyyi0SIYG",
    "outputId": "0941430e-f042-4fa9-c40f-c0041a153884"
   },
   "outputs": [],
   "source": [
    "cnn_bi_rnn_model.load_weights(\"../models/cnn-bi-rnn.h5\")\n",
    "for k in range(10):\n",
    "    \n",
    "\n",
    "    i = random.randint(0, 3000)\n",
    "    \n",
    "    actual_translation = translations[i]\n",
    "    sample_test_audio = audios[i]\n",
    "\n",
    "    predicted, error = predict(cnn_bi_rnn_model, sample_test_audio,\n",
    "                               tokenizer, int_to_char, actual=actual_translation)\n",
    "   \n",
    "    print(\"actual\", actual_translation)\n",
    "    print(\"predicted\", predicted)\n",
    "    print(f\"WER: {error:.2f}\")\n",
    "\n",
    "    print()\n",
    "    \n"
   ]
  },
  {
   "cell_type": "code",
   "execution_count": 100,
   "id": "0a9f1553",
   "metadata": {},
   "outputs": [
    {
     "name": "stdout",
     "output_type": "stream",
     "text": [
      "WARNING:tensorflow:Compiled the loaded model, but the compiled metrics have yet to be built. `model.compile_metrics` will be empty until you train or evaluate the model.\n"
     ]
    }
   ],
   "source": [
    "cnn_bi_rnn_model.save('../models/final_speech_model.h5')\n"
   ]
  }
 ],
 "metadata": {
  "accelerator": "GPU",
  "colab": {
   "collapsed_sections": [],
   "name": "ModelTrain.ipynb",
   "provenance": []
  },
  "kernelspec": {
   "display_name": "Python 3 (ipykernel)",
   "language": "python",
   "name": "python3"
  },
  "language_info": {
   "codemirror_mode": {
    "name": "ipython",
    "version": 3
   },
   "file_extension": ".py",
   "mimetype": "text/x-python",
   "name": "python",
   "nbconvert_exporter": "python",
   "pygments_lexer": "ipython3",
   "version": "3.8.13"
  }
 },
 "nbformat": 4,
 "nbformat_minor": 5
}
