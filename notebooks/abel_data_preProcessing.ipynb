{
  "nbformat": 4,
  "nbformat_minor": 0,
  "metadata": {
    "colab": {
      "name": "abel_data_preProcessing.ipynb",
      "provenance": [],
      "authorship_tag": "ABX9TyMPgRoxCK8tuTpUTVMfwPLC",
      "include_colab_link": true
    },
    "kernelspec": {
      "name": "python3",
      "display_name": "Python 3"
    },
    "language_info": {
      "name": "python"
    }
  },
  "cells": [
    {
      "cell_type": "markdown",
      "metadata": {
        "id": "view-in-github",
        "colab_type": "text"
      },
      "source": [
        "<a href=\"https://colab.research.google.com/github/week4-SpeechRecognition/Speech-to-Text/blob/data_loading/notebooks/abel_data_preProcessing.ipynb\" target=\"_parent\"><img src=\"https://colab.research.google.com/assets/colab-badge.svg\" alt=\"Open In Colab\"/></a>"
      ]
    },
    {
      "cell_type": "code",
      "execution_count": 1,
      "metadata": {
        "colab": {
          "base_uri": "https://localhost:8080/"
        },
        "id": "YPm_qSx1_iIe",
        "outputId": "15ff7069-4336-446b-f9f5-36f897b59edd"
      },
      "outputs": [
        {
          "output_type": "stream",
          "name": "stdout",
          "text": [
            "Cloning into 'ALFFA_PUBLIC'...\n",
            "remote: Enumerating objects: 66044, done.\u001b[K\n",
            "remote: Counting objects: 100% (20/20), done.\u001b[K\n",
            "remote: Compressing objects: 100% (20/20), done.\u001b[K\n",
            "remote: Total 66044 (delta 8), reused 1 (delta 0), pack-reused 66024\u001b[K\n",
            "Receiving objects: 100% (66044/66044), 6.54 GiB | 25.58 MiB/s, done.\n",
            "Resolving deltas: 100% (12345/12345), done.\n",
            "Checking out files: 100% (56926/56926), done.\n"
          ]
        }
      ],
      "source": [
        "!git clone https://github.com/getalp/ALFFA_PUBLIC.git"
      ]
    },
    {
      "cell_type": "code",
      "source": [
        "!du -sh ALFFA_PUBLIC/"
      ],
      "metadata": {
        "colab": {
          "base_uri": "https://localhost:8080/"
        },
        "id": "K2keOnNeBVqs",
        "outputId": "06901ff6-61bc-4307-efdc-974f99eee550"
      },
      "execution_count": 2,
      "outputs": [
        {
          "output_type": "stream",
          "name": "stdout",
          "text": [
            "16G\tALFFA_PUBLIC/\n"
          ]
        }
      ]
    },
    {
      "cell_type": "code",
      "source": [
        "!du -sh ALFFA_PUBLIC/ASR/*"
      ],
      "metadata": {
        "colab": {
          "base_uri": "https://localhost:8080/"
        },
        "id": "co6013EnBsM-",
        "outputId": "77dab636-ebd2-441a-c920-eb2989f527c8"
      },
      "execution_count": 3,
      "outputs": [
        {
          "output_type": "stream",
          "name": "stdout",
          "text": [
            "2.5G\tALFFA_PUBLIC/ASR/AMHARIC\n",
            "824M\tALFFA_PUBLIC/ASR/FONGBE\n",
            "11M\tALFFA_PUBLIC/ASR/HAUSA\n",
            "124K\tALFFA_PUBLIC/ASR/LREC2016_DataCollection_And_ALFFA_Project.pdf\n",
            "1.5G\tALFFA_PUBLIC/ASR/SWAHILI\n",
            "2.7G\tALFFA_PUBLIC/ASR/WOLOF\n"
          ]
        }
      ]
    },
    {
      "cell_type": "code",
      "source": [
        "from google.colab import drive"
      ],
      "metadata": {
        "id": "RUaZZ9MODS3M"
      },
      "execution_count": 4,
      "outputs": []
    },
    {
      "cell_type": "code",
      "source": [
        "drive.mount('/content/drive',force_remount= True)"
      ],
      "metadata": {
        "colab": {
          "base_uri": "https://localhost:8080/"
        },
        "id": "3HSI6mfPDVQt",
        "outputId": "04aaad99-147d-4ab9-c47d-d9b422926d73"
      },
      "execution_count": 5,
      "outputs": [
        {
          "output_type": "stream",
          "name": "stdout",
          "text": [
            "Mounted at /content/drive\n"
          ]
        }
      ]
    },
    {
      "cell_type": "code",
      "source": [
        "!cp -r ALFFA_PUBLIC/ASR/AMHARIC ALFFA_PUBLIC/ASR/SWAHILI drive/MyDrive/week4audio"
      ],
      "metadata": {
        "id": "YyQtd0ZJD2Xh"
      },
      "execution_count": 14,
      "outputs": []
    },
    {
      "cell_type": "code",
      "source": [
        "!du -sh drive/MyDrive/week4audio/*"
      ],
      "metadata": {
        "colab": {
          "base_uri": "https://localhost:8080/"
        },
        "id": "Jnzn1YWaD9tu",
        "outputId": "f6cb17cc-557a-4a38-80e3-dd4628564637"
      },
      "execution_count": 15,
      "outputs": [
        {
          "output_type": "stream",
          "name": "stdout",
          "text": [
            "2.4G\tdrive/MyDrive/week4audio/AMHARIC\n",
            "1.4G\tdrive/MyDrive/week4audio/SWAHILI\n"
          ]
        }
      ]
    },
    {
      "cell_type": "code",
      "source": [
        "!cp -r ALFFA_PUBLIC/ASR/SWAHILI drive/MyDrive/week4audio"
      ],
      "metadata": {
        "id": "N3H1wLE2GTty"
      },
      "execution_count": 17,
      "outputs": []
    },
    {
      "cell_type": "code",
      "source": [
        "!du -sh drive/MyDrive/week4audio/*"
      ],
      "metadata": {
        "colab": {
          "base_uri": "https://localhost:8080/"
        },
        "id": "KwaahGkYHlnw",
        "outputId": "9f203d8f-8b0d-4982-ca87-6cbdd65adacf"
      },
      "execution_count": 20,
      "outputs": [
        {
          "output_type": "stream",
          "name": "stdout",
          "text": [
            "2.4G\tdrive/MyDrive/week4audio/AMHARIC\n",
            "1.4G\tdrive/MyDrive/week4audio/SWAHILI\n"
          ]
        }
      ]
    },
    {
      "cell_type": "code",
      "source": [
        "!du -sh drive/MyDrive/week4audio/SWAHILI/*"
      ],
      "metadata": {
        "colab": {
          "base_uri": "https://localhost:8080/"
        },
        "id": "utdXjxfPH0pU",
        "outputId": "24c58c1d-0291-4007-dad5-5f43f356424a"
      },
      "execution_count": 21,
      "outputs": [
        {
          "output_type": "stream",
          "name": "stdout",
          "text": [
            "1.3G\tdrive/MyDrive/week4audio/SWAHILI/data\n",
            "16K\tdrive/MyDrive/week4audio/SWAHILI/kaldi-scripts\n",
            "2.1M\tdrive/MyDrive/week4audio/SWAHILI/lang\n",
            "117M\tdrive/MyDrive/week4audio/SWAHILI/LM\n",
            "5.0K\tdrive/MyDrive/week4audio/SWAHILI/README\n",
            "365K\tdrive/MyDrive/week4audio/SWAHILI/swahili-dataset-CCO-license.png\n"
          ]
        }
      ]
    },
    {
      "cell_type": "code",
      "source": [
        "!du -sh drive/MyDrive/week4audio/AMHARIC/*"
      ],
      "metadata": {
        "colab": {
          "base_uri": "https://localhost:8080/"
        },
        "id": "_tAG2majH2Cg",
        "outputId": "20ed13d0-794d-4a0e-cca0-cc1eb091ddb9"
      },
      "execution_count": 22,
      "outputs": [
        {
          "output_type": "stream",
          "name": "stdout",
          "text": [
            "2.3G\tdrive/MyDrive/week4audio/AMHARIC/data\n",
            "22K\tdrive/MyDrive/week4audio/AMHARIC/kaldi-script\n",
            "1.5M\tdrive/MyDrive/week4audio/AMHARIC/lang\n",
            "142M\tdrive/MyDrive/week4audio/AMHARIC/lm\n",
            "7.0K\tdrive/MyDrive/week4audio/AMHARIC/README.md\n"
          ]
        }
      ]
    }
  ]
}