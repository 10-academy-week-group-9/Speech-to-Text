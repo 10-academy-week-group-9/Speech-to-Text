{
 "cells": [
  {
   "cell_type": "markdown",
   "metadata": {},
   "source": [
    "This notebook will import helper modelues for modeling and train speech-to-text models.\n"
   ]
  },
  {
   "cell_type": "code",
   "execution_count": 1,
   "metadata": {},
   "outputs": [],
   "source": [
    "import os\n",
    "import sys\n",
    "sys.path.append(\"../\")\n",
    "# Custom scripts\n",
    "from scripts.generate_amharic_characters import GenerateCharacters\n",
    "from scripts.metadata_loader import MetaDataLoader\n",
    "from scripts.audio_generator import make_audio_gen\n",
    "from scripts.model_arch import model_1, train\n",
    "\n",
    "char_gen = GenerateCharacters()\n",
    "md_loader = MetaDataLoader()"
   ]
  },
  {
   "cell_type": "code",
   "execution_count": 2,
   "metadata": {},
   "outputs": [],
   "source": [
    "amharic_root = \"../data/AMHARIC\""
   ]
  },
  {
   "cell_type": "code",
   "execution_count": 3,
   "metadata": {},
   "outputs": [],
   "source": [
    "train_corpus_path = f\"{amharic_root}/transcriptions_amharic.csv\"\n",
    "characters = char_gen.get_characters(md_path=train_corpus_path)\n",
    "characters = sorted(characters)\n",
    "characters = characters[1:]"
   ]
  },
  {
   "cell_type": "code",
   "execution_count": 4,
   "metadata": {},
   "outputs": [],
   "source": [
    "char_map = {}\n",
    "char_map[\"\"] = 0\n",
    "char_map[\"<SPACE>\"] = 1\n",
    "index = 2\n",
    "for c in characters:\n",
    "    char_map[c] = index\n",
    "    index += 1\n",
    "index_map = {v+1: k for k, v in char_map.items()}"
   ]
  },
  {
   "cell_type": "code",
   "execution_count": 5,
   "metadata": {},
   "outputs": [
    {
     "name": "stdout",
     "output_type": "stream",
     "text": [
      "8700\n",
      "2175\n"
     ]
    }
   ],
   "source": [
    "TRAIN_CORPUS = os.path.join(amharic_root, \"train_corpus.json\")\n",
    "VALID_CORPUS = os.path.join(amharic_root, \"valid_corpus.json\")\n",
    "\n",
    "MFCC_DIM = 32\n",
    "SPECTOGRAM = False\n",
    "EPOCHS = 1\n",
    "MODEL_NAME = \"RNN_model\"\n",
    "\n",
    "\n",
    "MINI_BATCH_SIZE = 64\n",
    "\n",
    "SORT_BY_DURATION=False\n",
    "MAX_DURATION = 10.0\n",
    "\n",
    "audio_gen = make_audio_gen(TRAIN_CORPUS, \n",
    "                        VALID_CORPUS, \n",
    "                        spectrogram=False, \n",
    "                        mfcc_dim=MFCC_DIM,\n",
    "                        minibatch_size=MINI_BATCH_SIZE, \n",
    "                        sort_by_duration=SORT_BY_DURATION,\n",
    "                        max_duration=MAX_DURATION, \n",
    "                        char_map=char_map)\n",
    "# add the training data to the generator\n",
    "audio_gen.load_train_data()\n",
    "audio_gen.load_validation_data()"
   ]
  },
  {
   "cell_type": "code",
   "execution_count": null,
   "metadata": {},
   "outputs": [],
   "source": [
    "model = model_1(input_dim=MFCC_DIM,\n",
    "                units=5,\n",
    "                activation='relu',\n",
    "                output_dim=len(char_map)+1,\n",
    "                )"
   ]
  }
 ],
 "metadata": {
  "interpreter": {
   "hash": "5dc92e346d82d14afbd0efba27931d04a5632e40c59cc61c495ba84af32d423d"
  },
  "kernelspec": {
   "display_name": "Python 3.9.12 ('tfgpu')",
   "language": "python",
   "name": "python3"
  },
  "language_info": {
   "codemirror_mode": {
    "name": "ipython",
    "version": 3
   },
   "file_extension": ".py",
   "mimetype": "text/x-python",
   "name": "python",
   "nbconvert_exporter": "python",
   "pygments_lexer": "ipython3",
   "version": "3.9.12"
  },
  "orig_nbformat": 4
 },
 "nbformat": 4,
 "nbformat_minor": 2
}
