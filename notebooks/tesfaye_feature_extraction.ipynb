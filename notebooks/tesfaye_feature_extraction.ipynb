{
 "cells": [
  {
   "cell_type": "code",
   "execution_count": null,
   "metadata": {},
   "outputs": [],
   "source": [
    "import librosa  # for audio processing\n",
    "import librosa.display\n",
    "import IPython.display as ipd\n",
    "import matplotlib.pyplot as plt\n",
    "import numpy as np\n",
    "from scipy.io import wavfile  # for audio processing\n",
    "from numpy.lib.stride_tricks import as_strided\n",
    "from mpl_toolkits.axes_grid1 import make_axes_locatable\n",
    "import sklearn\n",
    "import pandas as pd\n",
    "from os.path import exists\n",
    "import warnings\n",
    "warnings.filterwarnings(\"ignore\")\n"
   ]
  },
  {
   "cell_type": "code",
   "execution_count": null,
   "metadata": {},
   "outputs": [],
   "source": [
    "train_audio_path = 'train/wav/'\n",
    "samples, sample_rate = librosa.load(train_audio_path+'tr_1_tr01001.wav')\n",
    "print(samples)\n",
    "print(sample_rate)"
   ]
  },
  {
   "cell_type": "code",
   "execution_count": null,
   "metadata": {},
   "outputs": [],
   "source": [
    "# Plot the signal:\n",
    "plt.figure(figsize=(20, 5))\n",
    "librosa.display.waveshow(samples, sr=sample_rate)\n",
    "plt.show()"
   ]
  }
 ],
 "metadata": {
  "language_info": {
   "name": "python"
  },
  "orig_nbformat": 4
 },
 "nbformat": 4,
 "nbformat_minor": 2
}
